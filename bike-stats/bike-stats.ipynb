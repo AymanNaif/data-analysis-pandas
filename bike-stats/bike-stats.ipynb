{
 "cells": [
  {
   "cell_type": "markdown",
   "id": "d9597fda-bda5-407d-8290-3d34c34864e6",
   "metadata": {},
   "source": [
    "# bike-stats"
   ]
  },
  {
   "cell_type": "code",
   "execution_count": 1,
   "id": "9369ccbd-e604-4ccf-86e3-2d0ea3fb78f7",
   "metadata": {},
   "outputs": [],
   "source": [
    "import pandas as pd\n",
    "import numpy as np"
   ]
  },
  {
   "cell_type": "code",
   "execution_count": 2,
   "id": "8f7e923d-c97c-442e-b242-14254b23e305",
   "metadata": {},
   "outputs": [],
   "source": [
    "df1 = pd.read_csv('assets/station.csv')"
   ]
  },
  {
   "cell_type": "code",
   "execution_count": 3,
   "id": "b3869add-770c-4a6f-bb9a-04ae00b6d75b",
   "metadata": {},
   "outputs": [],
   "source": [
    "df2 = pd.read_csv('assets/trip.csv',warn_bad_lines=False ,error_bad_lines=False)"
   ]
  },
  {
   "cell_type": "code",
   "execution_count": 4,
   "id": "0c0f99a1-6029-4263-829f-3a5697082f7f",
   "metadata": {},
   "outputs": [],
   "source": [
    "df3 = pd.read_csv('assets/weather.csv')"
   ]
  },
  {
   "cell_type": "markdown",
   "id": "22882c0a-3fc8-40b7-b74c-8a08c2e19471",
   "metadata": {},
   "source": [
    "### 1- What is the average trip duration for a borrowed bicycle?"
   ]
  },
  {
   "cell_type": "code",
   "execution_count": 8,
   "id": "b2014957-8155-4fba-ad95-1448cd5dfe2e",
   "metadata": {},
   "outputs": [
    {
     "data": {
      "text/plain": [
       "1178.2956753399776"
      ]
     },
     "execution_count": 8,
     "metadata": {},
     "output_type": "execute_result"
    }
   ],
   "source": [
    "df2['tripduration'].mean()"
   ]
  },
  {
   "cell_type": "markdown",
   "id": "76c69581-a48b-48ef-bc57-c24cd0351f4f",
   "metadata": {},
   "source": [
    "### 2- What’s the most common age of a bicycle-sharer?"
   ]
  },
  {
   "cell_type": "code",
   "execution_count": 26,
   "id": "917886bf-1393-44f6-ae5b-1978f7e9a5cd",
   "metadata": {},
   "outputs": [
    {
     "data": {
      "text/plain": [
       "34"
      ]
     },
     "execution_count": 26,
     "metadata": {},
     "output_type": "execute_result"
    }
   ],
   "source": [
    "most_age= 2021 - df2['birthyear'].mode()[0]\n",
    "int(most_age)"
   ]
  },
  {
   "cell_type": "markdown",
   "id": "192e18ea-2625-48b1-94cb-dffd6efe3905",
   "metadata": {},
   "source": [
    "### 3- Given all the weather data here, find the average precipitation per month, and the median precipitation."
   ]
  },
  {
   "cell_type": "code",
   "execution_count": 76,
   "id": "f089ee59-dcb4-487a-ae2c-e738daa2a07e",
   "metadata": {},
   "outputs": [],
   "source": [
    "months=df3.groupby('Month')['Precipitation_In']\n",
    "avg_months=months.mean()"
   ]
  },
  {
   "cell_type": "code",
   "execution_count": 75,
   "id": "558286c3-6a64-40ae-8ca8-e0f42fb086b6",
   "metadata": {},
   "outputs": [
    {
     "data": {
      "text/plain": [
       "Month\n",
       "1     0.143548\n",
       "2     0.168421\n",
       "3     0.156935\n",
       "4     0.051333\n",
       "5     0.012419\n",
       "6     0.030500\n",
       "7     0.012097\n",
       "8     0.018226\n",
       "9     0.041000\n",
       "10    0.189000\n",
       "11    0.187833\n",
       "12    0.236290\n",
       "Name: Precipitation_In, dtype: float64"
      ]
     },
     "execution_count": 75,
     "metadata": {},
     "output_type": "execute_result"
    }
   ],
   "source": [
    "avg_months"
   ]
  },
  {
   "cell_type": "code",
   "execution_count": 77,
   "id": "76e36021-ce0c-455a-a07e-1520e33a91d7",
   "metadata": {},
   "outputs": [
    {
     "data": {
      "text/plain": [
       "0.10506531204644412"
      ]
     },
     "execution_count": 77,
     "metadata": {},
     "output_type": "execute_result"
    }
   ],
   "source": [
    "df3['Precipitation_In'].mean()"
   ]
  },
  {
   "cell_type": "markdown",
   "id": "536c468a-ff33-460d-91da-ba5e09c7f963",
   "metadata": {},
   "source": [
    "### 4- What’s the average number of bikes at a given bike station?"
   ]
  },
  {
   "cell_type": "code",
   "execution_count": 49,
   "id": "02c33d79-2b44-4e35-9653-2cc57a4c2c8a",
   "metadata": {},
   "outputs": [
    {
     "data": {
      "text/plain": [
       "17.586206896551722"
      ]
     },
     "execution_count": 49,
     "metadata": {},
     "output_type": "execute_result"
    }
   ],
   "source": [
    "df1.mean().install_dockcount"
   ]
  },
  {
   "cell_type": "markdown",
   "id": "38439308-7ff1-4f2a-bfe5-7a05c64d720e",
   "metadata": {},
   "source": [
    "### 5- When a bike station is modified, is it more likely that it’ll lose bikes or gain bikes? How do you know?"
   ]
  },
  {
   "cell_type": "code",
   "execution_count": 52,
   "id": "9a232634-ea95-450d-abaf-49de9d7b95ad",
   "metadata": {},
   "outputs": [],
   "source": [
    "df_modify = df1[['modification_date','install_dockcount','current_dockcount']].dropna() "
   ]
  },
  {
   "cell_type": "code",
   "execution_count": 53,
   "id": "6ad132b5-1176-43f5-b585-b7243f68eea4",
   "metadata": {},
   "outputs": [
    {
     "data": {
      "text/html": [
       "<div>\n",
       "<style scoped>\n",
       "    .dataframe tbody tr th:only-of-type {\n",
       "        vertical-align: middle;\n",
       "    }\n",
       "\n",
       "    .dataframe tbody tr th {\n",
       "        vertical-align: top;\n",
       "    }\n",
       "\n",
       "    .dataframe thead th {\n",
       "        text-align: right;\n",
       "    }\n",
       "</style>\n",
       "<table border=\"1\" class=\"dataframe\">\n",
       "  <thead>\n",
       "    <tr style=\"text-align: right;\">\n",
       "      <th></th>\n",
       "      <th>modification_date</th>\n",
       "      <th>install_dockcount</th>\n",
       "      <th>current_dockcount</th>\n",
       "    </tr>\n",
       "  </thead>\n",
       "  <tbody>\n",
       "    <tr>\n",
       "      <th>7</th>\n",
       "      <td>11/9/2015</td>\n",
       "      <td>20</td>\n",
       "      <td>18</td>\n",
       "    </tr>\n",
       "    <tr>\n",
       "      <th>10</th>\n",
       "      <td>8/9/2016</td>\n",
       "      <td>16</td>\n",
       "      <td>0</td>\n",
       "    </tr>\n",
       "    <tr>\n",
       "      <th>12</th>\n",
       "      <td>2/24/2015</td>\n",
       "      <td>18</td>\n",
       "      <td>20</td>\n",
       "    </tr>\n",
       "    <tr>\n",
       "      <th>17</th>\n",
       "      <td>2/24/2015</td>\n",
       "      <td>28</td>\n",
       "      <td>26</td>\n",
       "    </tr>\n",
       "    <tr>\n",
       "      <th>22</th>\n",
       "      <td>3/24/2015</td>\n",
       "      <td>30</td>\n",
       "      <td>24</td>\n",
       "    </tr>\n",
       "    <tr>\n",
       "      <th>23</th>\n",
       "      <td>3/27/2015</td>\n",
       "      <td>12</td>\n",
       "      <td>16</td>\n",
       "    </tr>\n",
       "    <tr>\n",
       "      <th>26</th>\n",
       "      <td>3/18/2016</td>\n",
       "      <td>16</td>\n",
       "      <td>0</td>\n",
       "    </tr>\n",
       "    <tr>\n",
       "      <th>31</th>\n",
       "      <td>2/24/2015</td>\n",
       "      <td>18</td>\n",
       "      <td>20</td>\n",
       "    </tr>\n",
       "    <tr>\n",
       "      <th>35</th>\n",
       "      <td>3/13/2015</td>\n",
       "      <td>12</td>\n",
       "      <td>20</td>\n",
       "    </tr>\n",
       "    <tr>\n",
       "      <th>37</th>\n",
       "      <td>2/23/2015</td>\n",
       "      <td>18</td>\n",
       "      <td>16</td>\n",
       "    </tr>\n",
       "    <tr>\n",
       "      <th>38</th>\n",
       "      <td>11/2/2015</td>\n",
       "      <td>20</td>\n",
       "      <td>0</td>\n",
       "    </tr>\n",
       "    <tr>\n",
       "      <th>39</th>\n",
       "      <td>3/4/2015</td>\n",
       "      <td>12</td>\n",
       "      <td>16</td>\n",
       "    </tr>\n",
       "    <tr>\n",
       "      <th>46</th>\n",
       "      <td>10/29/2015</td>\n",
       "      <td>16</td>\n",
       "      <td>0</td>\n",
       "    </tr>\n",
       "    <tr>\n",
       "      <th>47</th>\n",
       "      <td>2/20/2015</td>\n",
       "      <td>12</td>\n",
       "      <td>14</td>\n",
       "    </tr>\n",
       "    <tr>\n",
       "      <th>48</th>\n",
       "      <td>2/20/2015</td>\n",
       "      <td>18</td>\n",
       "      <td>16</td>\n",
       "    </tr>\n",
       "    <tr>\n",
       "      <th>49</th>\n",
       "      <td>2/20/2015</td>\n",
       "      <td>12</td>\n",
       "      <td>14</td>\n",
       "    </tr>\n",
       "    <tr>\n",
       "      <th>50</th>\n",
       "      <td>2/20/2015</td>\n",
       "      <td>20</td>\n",
       "      <td>14</td>\n",
       "    </tr>\n",
       "  </tbody>\n",
       "</table>\n",
       "</div>"
      ],
      "text/plain": [
       "   modification_date  install_dockcount  current_dockcount\n",
       "7          11/9/2015                 20                 18\n",
       "10          8/9/2016                 16                  0\n",
       "12         2/24/2015                 18                 20\n",
       "17         2/24/2015                 28                 26\n",
       "22         3/24/2015                 30                 24\n",
       "23         3/27/2015                 12                 16\n",
       "26         3/18/2016                 16                  0\n",
       "31         2/24/2015                 18                 20\n",
       "35         3/13/2015                 12                 20\n",
       "37         2/23/2015                 18                 16\n",
       "38         11/2/2015                 20                  0\n",
       "39          3/4/2015                 12                 16\n",
       "46        10/29/2015                 16                  0\n",
       "47         2/20/2015                 12                 14\n",
       "48         2/20/2015                 18                 16\n",
       "49         2/20/2015                 12                 14\n",
       "50         2/20/2015                 20                 14"
      ]
     },
     "execution_count": 53,
     "metadata": {},
     "output_type": "execute_result"
    }
   ],
   "source": [
    "df_modify"
   ]
  },
  {
   "cell_type": "code",
   "execution_count": 56,
   "id": "4c3f34f7-7413-46d3-9d64-15a283c5ce6d",
   "metadata": {},
   "outputs": [
    {
     "data": {
      "text/plain": [
       "-64"
      ]
     },
     "execution_count": 56,
     "metadata": {},
     "output_type": "execute_result"
    }
   ],
   "source": [
    "sum_current_dockcount = df_modify['current_dockcount'].sum()\n",
    "sum_install_dockcount = df_modify['install_dockcount'].sum()\n",
    "new_current_dockcount-new_install_dockcount"
   ]
  },
  {
   "cell_type": "markdown",
   "id": "748f8c88-da67-4e80-8d2d-cb75a16d62c6",
   "metadata": {},
   "source": [
    "#### it's lose 64 "
   ]
  }
 ],
 "metadata": {
  "kernelspec": {
   "display_name": "Python 3",
   "language": "python",
   "name": "python3"
  },
  "language_info": {
   "codemirror_mode": {
    "name": "ipython",
    "version": 3
   },
   "file_extension": ".py",
   "mimetype": "text/x-python",
   "name": "python",
   "nbconvert_exporter": "python",
   "pygments_lexer": "ipython3",
   "version": "3.9.4"
  }
 },
 "nbformat": 4,
 "nbformat_minor": 5
}
