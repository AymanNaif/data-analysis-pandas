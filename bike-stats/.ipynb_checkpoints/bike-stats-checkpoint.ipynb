{
 "cells": [
  {
   "cell_type": "markdown",
   "id": "d9597fda-bda5-407d-8290-3d34c34864e6",
   "metadata": {},
   "source": [
    "# bike-stats"
   ]
  },
  {
   "cell_type": "code",
   "execution_count": 1,
   "id": "9369ccbd-e604-4ccf-86e3-2d0ea3fb78f7",
   "metadata": {},
   "outputs": [],
   "source": [
    "import pandas as pd\n",
    "import numpy as np"
   ]
  },
  {
   "cell_type": "code",
   "execution_count": 2,
   "id": "8f7e923d-c97c-442e-b242-14254b23e305",
   "metadata": {},
   "outputs": [],
   "source": [
    "df1 = pd.read_csv('assets/station.csv')"
   ]
  },
  {
   "cell_type": "code",
   "execution_count": 3,
   "id": "b3869add-770c-4a6f-bb9a-04ae00b6d75b",
   "metadata": {},
   "outputs": [],
   "source": [
    "df2 = pd.read_csv('assets/trip.csv',warn_bad_lines=False ,error_bad_lines=False)"
   ]
  },
  {
   "cell_type": "code",
   "execution_count": 4,
   "id": "0c0f99a1-6029-4263-829f-3a5697082f7f",
   "metadata": {},
   "outputs": [],
   "source": [
    "df3 = pd.read_csv('assets/weather.csv')"
   ]
  },
  {
   "cell_type": "markdown",
   "id": "22882c0a-3fc8-40b7-b74c-8a08c2e19471",
   "metadata": {},
   "source": [
    "### 1- What is the average trip duration for a borrowed bicycle?"
   ]
  },
  {
   "cell_type": "code",
   "execution_count": 5,
   "id": "b2014957-8155-4fba-ad95-1448cd5dfe2e",
   "metadata": {},
   "outputs": [
    {
     "data": {
      "text/plain": [
       "1178.2956753399776"
      ]
     },
     "execution_count": 5,
     "metadata": {},
     "output_type": "execute_result"
    }
   ],
   "source": [
    "df2['tripduration'].mean()"
   ]
  },
  {
   "cell_type": "markdown",
   "id": "76c69581-a48b-48ef-bc57-c24cd0351f4f",
   "metadata": {},
   "source": [
    "### 2- What’s the most common age of a bicycle-sharer?"
   ]
  },
  {
   "cell_type": "code",
   "execution_count": 6,
   "id": "917886bf-1393-44f6-ae5b-1978f7e9a5cd",
   "metadata": {},
   "outputs": [
    {
     "data": {
      "text/plain": [
       "34"
      ]
     },
     "execution_count": 6,
     "metadata": {},
     "output_type": "execute_result"
    }
   ],
   "source": [
    "most_age= 2021 - df2['birthyear'].mode()[0]\n",
    "int(most_age)"
   ]
  },
  {
   "cell_type": "markdown",
   "id": "192e18ea-2625-48b1-94cb-dffd6efe3905",
   "metadata": {},
   "source": [
    "### 3- Given all the weather data here, find the average precipitation per month, and the median precipitation."
   ]
  },
  {
   "cell_type": "code",
   "execution_count": 7,
   "id": "f089ee59-dcb4-487a-ae2c-e738daa2a07e",
   "metadata": {},
   "outputs": [],
   "source": [
    "month =pd.DatetimeIndex(df3['Date']).month\n",
    "months=df3.groupby(month)[\"Precipitation_In\"]\n"
   ]
  },
  {
   "cell_type": "code",
   "execution_count": 8,
   "id": "558286c3-6a64-40ae-8ca8-e0f42fb086b6",
   "metadata": {},
   "outputs": [
    {
     "data": {
      "text/plain": [
       "Date\n",
       "1     0.143548\n",
       "2     0.168421\n",
       "3     0.156935\n",
       "4     0.051333\n",
       "5     0.012419\n",
       "6     0.030500\n",
       "7     0.012097\n",
       "8     0.018226\n",
       "9     0.041000\n",
       "10    0.189000\n",
       "11    0.187833\n",
       "12    0.236290\n",
       "Name: Precipitation_In, dtype: float64"
      ]
     },
     "execution_count": 8,
     "metadata": {},
     "output_type": "execute_result"
    }
   ],
   "source": [
    "months.mean()"
   ]
  },
  {
   "cell_type": "code",
   "execution_count": 9,
   "id": "76e36021-ce0c-455a-a07e-1520e33a91d7",
   "metadata": {},
   "outputs": [
    {
     "data": {
      "text/plain": [
       "Date\n",
       "1     0.020\n",
       "2     0.040\n",
       "3     0.025\n",
       "4     0.000\n",
       "5     0.000\n",
       "6     0.000\n",
       "7     0.000\n",
       "8     0.000\n",
       "9     0.000\n",
       "10    0.040\n",
       "11    0.035\n",
       "12    0.100\n",
       "Name: Precipitation_In, dtype: float64"
      ]
     },
     "execution_count": 9,
     "metadata": {},
     "output_type": "execute_result"
    }
   ],
   "source": [
    "months.median()"
   ]
  },
  {
   "cell_type": "markdown",
   "id": "536c468a-ff33-460d-91da-ba5e09c7f963",
   "metadata": {},
   "source": [
    "### 4- What’s the average number of bikes at a given bike station?"
   ]
  },
  {
   "cell_type": "code",
   "execution_count": 10,
   "id": "02c33d79-2b44-4e35-9653-2cc57a4c2c8a",
   "metadata": {},
   "outputs": [
    {
     "data": {
      "text/plain": [
       "17.586206896551722"
      ]
     },
     "execution_count": 10,
     "metadata": {},
     "output_type": "execute_result"
    }
   ],
   "source": [
    "df1.mean().install_dockcount"
   ]
  },
  {
   "cell_type": "markdown",
   "id": "38439308-7ff1-4f2a-bfe5-7a05c64d720e",
   "metadata": {},
   "source": [
    "### 5- When a bike station is modified, is it more likely that it’ll lose bikes or gain bikes? How do you know?"
   ]
  },
  {
   "cell_type": "code",
   "execution_count": 11,
   "id": "9a232634-ea95-450d-abaf-49de9d7b95ad",
   "metadata": {},
   "outputs": [],
   "source": [
    "df_modify = df1[['modification_date','install_dockcount','current_dockcount']].dropna() "
   ]
  },
  {
   "cell_type": "code",
   "execution_count": 12,
   "id": "6ad132b5-1176-43f5-b585-b7243f68eea4",
   "metadata": {},
   "outputs": [
    {
     "data": {
      "text/html": [
       "<div>\n",
       "<style scoped>\n",
       "    .dataframe tbody tr th:only-of-type {\n",
       "        vertical-align: middle;\n",
       "    }\n",
       "\n",
       "    .dataframe tbody tr th {\n",
       "        vertical-align: top;\n",
       "    }\n",
       "\n",
       "    .dataframe thead th {\n",
       "        text-align: right;\n",
       "    }\n",
       "</style>\n",
       "<table border=\"1\" class=\"dataframe\">\n",
       "  <thead>\n",
       "    <tr style=\"text-align: right;\">\n",
       "      <th></th>\n",
       "      <th>modification_date</th>\n",
       "      <th>install_dockcount</th>\n",
       "      <th>current_dockcount</th>\n",
       "    </tr>\n",
       "  </thead>\n",
       "  <tbody>\n",
       "    <tr>\n",
       "      <th>7</th>\n",
       "      <td>11/9/2015</td>\n",
       "      <td>20</td>\n",
       "      <td>18</td>\n",
       "    </tr>\n",
       "    <tr>\n",
       "      <th>10</th>\n",
       "      <td>8/9/2016</td>\n",
       "      <td>16</td>\n",
       "      <td>0</td>\n",
       "    </tr>\n",
       "    <tr>\n",
       "      <th>12</th>\n",
       "      <td>2/24/2015</td>\n",
       "      <td>18</td>\n",
       "      <td>20</td>\n",
       "    </tr>\n",
       "    <tr>\n",
       "      <th>17</th>\n",
       "      <td>2/24/2015</td>\n",
       "      <td>28</td>\n",
       "      <td>26</td>\n",
       "    </tr>\n",
       "    <tr>\n",
       "      <th>22</th>\n",
       "      <td>3/24/2015</td>\n",
       "      <td>30</td>\n",
       "      <td>24</td>\n",
       "    </tr>\n",
       "    <tr>\n",
       "      <th>23</th>\n",
       "      <td>3/27/2015</td>\n",
       "      <td>12</td>\n",
       "      <td>16</td>\n",
       "    </tr>\n",
       "    <tr>\n",
       "      <th>26</th>\n",
       "      <td>3/18/2016</td>\n",
       "      <td>16</td>\n",
       "      <td>0</td>\n",
       "    </tr>\n",
       "    <tr>\n",
       "      <th>31</th>\n",
       "      <td>2/24/2015</td>\n",
       "      <td>18</td>\n",
       "      <td>20</td>\n",
       "    </tr>\n",
       "    <tr>\n",
       "      <th>35</th>\n",
       "      <td>3/13/2015</td>\n",
       "      <td>12</td>\n",
       "      <td>20</td>\n",
       "    </tr>\n",
       "    <tr>\n",
       "      <th>37</th>\n",
       "      <td>2/23/2015</td>\n",
       "      <td>18</td>\n",
       "      <td>16</td>\n",
       "    </tr>\n",
       "    <tr>\n",
       "      <th>38</th>\n",
       "      <td>11/2/2015</td>\n",
       "      <td>20</td>\n",
       "      <td>0</td>\n",
       "    </tr>\n",
       "    <tr>\n",
       "      <th>39</th>\n",
       "      <td>3/4/2015</td>\n",
       "      <td>12</td>\n",
       "      <td>16</td>\n",
       "    </tr>\n",
       "    <tr>\n",
       "      <th>46</th>\n",
       "      <td>10/29/2015</td>\n",
       "      <td>16</td>\n",
       "      <td>0</td>\n",
       "    </tr>\n",
       "    <tr>\n",
       "      <th>47</th>\n",
       "      <td>2/20/2015</td>\n",
       "      <td>12</td>\n",
       "      <td>14</td>\n",
       "    </tr>\n",
       "    <tr>\n",
       "      <th>48</th>\n",
       "      <td>2/20/2015</td>\n",
       "      <td>18</td>\n",
       "      <td>16</td>\n",
       "    </tr>\n",
       "    <tr>\n",
       "      <th>49</th>\n",
       "      <td>2/20/2015</td>\n",
       "      <td>12</td>\n",
       "      <td>14</td>\n",
       "    </tr>\n",
       "    <tr>\n",
       "      <th>50</th>\n",
       "      <td>2/20/2015</td>\n",
       "      <td>20</td>\n",
       "      <td>14</td>\n",
       "    </tr>\n",
       "  </tbody>\n",
       "</table>\n",
       "</div>"
      ],
      "text/plain": [
       "   modification_date  install_dockcount  current_dockcount\n",
       "7          11/9/2015                 20                 18\n",
       "10          8/9/2016                 16                  0\n",
       "12         2/24/2015                 18                 20\n",
       "17         2/24/2015                 28                 26\n",
       "22         3/24/2015                 30                 24\n",
       "23         3/27/2015                 12                 16\n",
       "26         3/18/2016                 16                  0\n",
       "31         2/24/2015                 18                 20\n",
       "35         3/13/2015                 12                 20\n",
       "37         2/23/2015                 18                 16\n",
       "38         11/2/2015                 20                  0\n",
       "39          3/4/2015                 12                 16\n",
       "46        10/29/2015                 16                  0\n",
       "47         2/20/2015                 12                 14\n",
       "48         2/20/2015                 18                 16\n",
       "49         2/20/2015                 12                 14\n",
       "50         2/20/2015                 20                 14"
      ]
     },
     "execution_count": 12,
     "metadata": {},
     "output_type": "execute_result"
    }
   ],
   "source": [
    "df_modify"
   ]
  },
  {
   "cell_type": "code",
   "execution_count": 13,
   "id": "4c3f34f7-7413-46d3-9d64-15a283c5ce6d",
   "metadata": {},
   "outputs": [
    {
     "data": {
      "text/plain": [
       "-64"
      ]
     },
     "execution_count": 13,
     "metadata": {},
     "output_type": "execute_result"
    }
   ],
   "source": [
    "sum_current_dockcount = df_modify['current_dockcount'].sum()\n",
    "sum_install_dockcount = df_modify['install_dockcount'].sum()\n",
    "sum_current_dockcount-sum_install_dockcount"
   ]
  },
  {
   "cell_type": "markdown",
   "id": "748f8c88-da67-4e80-8d2d-cb75a16d62c6",
   "metadata": {},
   "source": [
    "#### it's lose 64 "
   ]
  },
  {
   "cell_type": "markdown",
   "id": "44df4a71-7d54-4561-9eb0-c5b655f718c8",
   "metadata": {},
   "source": [
    "### 6- Come up with 3 more questions that can be answered with this data set."
   ]
  },
  {
   "cell_type": "markdown",
   "id": "c87c7ab2-4567-4b0f-8090-c028276eca0c",
   "metadata": {},
   "source": [
    "- #### what is the max temperature ?"
   ]
  },
  {
   "cell_type": "code",
   "execution_count": 14,
   "id": "dbf80052-bf35-4045-b2fa-918b770d3779",
   "metadata": {},
   "outputs": [
    {
     "data": {
      "text/plain": [
       "98"
      ]
     },
     "execution_count": 14,
     "metadata": {},
     "output_type": "execute_result"
    }
   ],
   "source": [
    "df3.max().Max_Temperature_F"
   ]
  },
  {
   "cell_type": "code",
   "execution_count": 24,
   "id": "ba9aae2d-be1a-47c9-8f1d-3bcfa6457d9d",
   "metadata": {},
   "outputs": [],
   "source": []
  },
  {
   "cell_type": "markdown",
   "id": "9d7d635e-3a5b-4368-980e-0d39061ed350",
   "metadata": {},
   "source": [
    "- #### what is the maximum place that installs dock count?"
   ]
  },
  {
   "cell_type": "code",
   "execution_count": 25,
   "id": "c673c120-7424-4adf-a7cc-c778af279c1d",
   "metadata": {},
   "outputs": [
    {
     "data": {
      "text/plain": [
       "station_id                            WF-04\n",
       "name                 Westlake Ave & 6th Ave\n",
       "lat                               47.666145\n",
       "long                            -122.284119\n",
       "install_date                      9/15/2015\n",
       "install_dockcount                        30\n",
       "current_dockcount                        26\n",
       "dtype: object"
      ]
     },
     "execution_count": 25,
     "metadata": {},
     "output_type": "execute_result"
    }
   ],
   "source": [
    "df1.max()"
   ]
  },
  {
   "cell_type": "code",
   "execution_count": 26,
   "id": "770c6e5c-95da-4131-b85d-ef523505bf88",
   "metadata": {},
   "outputs": [],
   "source": [
    "df1.max().name"
   ]
  },
  {
   "cell_type": "markdown",
   "id": "68b41e1e-9e84-42e1-8e60-c653b191ccfc",
   "metadata": {},
   "source": [
    "- ### when was the min start time ?"
   ]
  },
  {
   "cell_type": "code",
   "execution_count": 30,
   "id": "fbe769c4-5f2a-4534-ba31-30dda30eb231",
   "metadata": {},
   "outputs": [
    {
     "data": {
      "text/plain": [
       "'1/1/2015 0:24'"
      ]
     },
     "execution_count": 30,
     "metadata": {},
     "output_type": "execute_result"
    }
   ],
   "source": [
    "df2['starttime'].min()"
   ]
  }
 ],
 "metadata": {
  "kernelspec": {
   "display_name": "Python 3",
   "language": "python",
   "name": "python3"
  },
  "language_info": {
   "codemirror_mode": {
    "name": "ipython",
    "version": 3
   },
   "file_extension": ".py",
   "mimetype": "text/x-python",
   "name": "python",
   "nbconvert_exporter": "python",
   "pygments_lexer": "ipython3",
   "version": "3.9.4"
  }
 },
 "nbformat": 4,
 "nbformat_minor": 5
}
