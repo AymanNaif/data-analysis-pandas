{
 "cells": [
  {
   "cell_type": "markdown",
   "id": "9e4deebd-0a10-4b3d-bfcd-d8e3e1163afb",
   "metadata": {},
   "source": [
    "# Data Analysis with Pandas"
   ]
  },
  {
   "cell_type": "code",
   "execution_count": 1,
   "id": "e4440c17-0d1d-47c8-b2a3-ca7a60c2d7e4",
   "metadata": {},
   "outputs": [],
   "source": [
    "import pandas as pd\n",
    "import numpy as np"
   ]
  },
  {
   "cell_type": "code",
   "execution_count": 2,
   "id": "2c6e1e21-9bdf-4d6f-b6bd-e7fe6c766404",
   "metadata": {},
   "outputs": [],
   "source": [
    "df = pd.read_csv('./vgsales.csv')"
   ]
  },
  {
   "cell_type": "code",
   "execution_count": 3,
   "id": "19f5c8ba-3b20-4cf9-af7a-8a7b5ba62284",
   "metadata": {},
   "outputs": [
    {
     "data": {
      "text/html": [
       "<div>\n",
       "<style scoped>\n",
       "    .dataframe tbody tr th:only-of-type {\n",
       "        vertical-align: middle;\n",
       "    }\n",
       "\n",
       "    .dataframe tbody tr th {\n",
       "        vertical-align: top;\n",
       "    }\n",
       "\n",
       "    .dataframe thead th {\n",
       "        text-align: right;\n",
       "    }\n",
       "</style>\n",
       "<table border=\"1\" class=\"dataframe\">\n",
       "  <thead>\n",
       "    <tr style=\"text-align: right;\">\n",
       "      <th></th>\n",
       "      <th>Rank</th>\n",
       "      <th>Name</th>\n",
       "      <th>Platform</th>\n",
       "      <th>Year</th>\n",
       "      <th>Genre</th>\n",
       "      <th>Publisher</th>\n",
       "      <th>NA_Sales</th>\n",
       "      <th>EU_Sales</th>\n",
       "      <th>JP_Sales</th>\n",
       "      <th>Other_Sales</th>\n",
       "      <th>Global_Sales</th>\n",
       "    </tr>\n",
       "  </thead>\n",
       "  <tbody>\n",
       "    <tr>\n",
       "      <th>0</th>\n",
       "      <td>1</td>\n",
       "      <td>Wii Sports</td>\n",
       "      <td>Wii</td>\n",
       "      <td>2006.0</td>\n",
       "      <td>Sports</td>\n",
       "      <td>Nintendo</td>\n",
       "      <td>41.49</td>\n",
       "      <td>29.02</td>\n",
       "      <td>3.77</td>\n",
       "      <td>8.46</td>\n",
       "      <td>82.74</td>\n",
       "    </tr>\n",
       "    <tr>\n",
       "      <th>1</th>\n",
       "      <td>2</td>\n",
       "      <td>Super Mario Bros.</td>\n",
       "      <td>NES</td>\n",
       "      <td>1985.0</td>\n",
       "      <td>Platform</td>\n",
       "      <td>Nintendo</td>\n",
       "      <td>29.08</td>\n",
       "      <td>3.58</td>\n",
       "      <td>6.81</td>\n",
       "      <td>0.77</td>\n",
       "      <td>40.24</td>\n",
       "    </tr>\n",
       "    <tr>\n",
       "      <th>2</th>\n",
       "      <td>3</td>\n",
       "      <td>Mario Kart Wii</td>\n",
       "      <td>Wii</td>\n",
       "      <td>2008.0</td>\n",
       "      <td>Racing</td>\n",
       "      <td>Nintendo</td>\n",
       "      <td>15.85</td>\n",
       "      <td>12.88</td>\n",
       "      <td>3.79</td>\n",
       "      <td>3.31</td>\n",
       "      <td>35.82</td>\n",
       "    </tr>\n",
       "    <tr>\n",
       "      <th>3</th>\n",
       "      <td>4</td>\n",
       "      <td>Wii Sports Resort</td>\n",
       "      <td>Wii</td>\n",
       "      <td>2009.0</td>\n",
       "      <td>Sports</td>\n",
       "      <td>Nintendo</td>\n",
       "      <td>15.75</td>\n",
       "      <td>11.01</td>\n",
       "      <td>3.28</td>\n",
       "      <td>2.96</td>\n",
       "      <td>33.00</td>\n",
       "    </tr>\n",
       "    <tr>\n",
       "      <th>4</th>\n",
       "      <td>5</td>\n",
       "      <td>Pokemon Red/Pokemon Blue</td>\n",
       "      <td>GB</td>\n",
       "      <td>1996.0</td>\n",
       "      <td>Role-Playing</td>\n",
       "      <td>Nintendo</td>\n",
       "      <td>11.27</td>\n",
       "      <td>8.89</td>\n",
       "      <td>10.22</td>\n",
       "      <td>1.00</td>\n",
       "      <td>31.37</td>\n",
       "    </tr>\n",
       "    <tr>\n",
       "      <th>...</th>\n",
       "      <td>...</td>\n",
       "      <td>...</td>\n",
       "      <td>...</td>\n",
       "      <td>...</td>\n",
       "      <td>...</td>\n",
       "      <td>...</td>\n",
       "      <td>...</td>\n",
       "      <td>...</td>\n",
       "      <td>...</td>\n",
       "      <td>...</td>\n",
       "      <td>...</td>\n",
       "    </tr>\n",
       "    <tr>\n",
       "      <th>16593</th>\n",
       "      <td>16596</td>\n",
       "      <td>Woody Woodpecker in Crazy Castle 5</td>\n",
       "      <td>GBA</td>\n",
       "      <td>2002.0</td>\n",
       "      <td>Platform</td>\n",
       "      <td>Kemco</td>\n",
       "      <td>0.01</td>\n",
       "      <td>0.00</td>\n",
       "      <td>0.00</td>\n",
       "      <td>0.00</td>\n",
       "      <td>0.01</td>\n",
       "    </tr>\n",
       "    <tr>\n",
       "      <th>16594</th>\n",
       "      <td>16597</td>\n",
       "      <td>Men in Black II: Alien Escape</td>\n",
       "      <td>GC</td>\n",
       "      <td>2003.0</td>\n",
       "      <td>Shooter</td>\n",
       "      <td>Infogrames</td>\n",
       "      <td>0.01</td>\n",
       "      <td>0.00</td>\n",
       "      <td>0.00</td>\n",
       "      <td>0.00</td>\n",
       "      <td>0.01</td>\n",
       "    </tr>\n",
       "    <tr>\n",
       "      <th>16595</th>\n",
       "      <td>16598</td>\n",
       "      <td>SCORE International Baja 1000: The Official Game</td>\n",
       "      <td>PS2</td>\n",
       "      <td>2008.0</td>\n",
       "      <td>Racing</td>\n",
       "      <td>Activision</td>\n",
       "      <td>0.00</td>\n",
       "      <td>0.00</td>\n",
       "      <td>0.00</td>\n",
       "      <td>0.00</td>\n",
       "      <td>0.01</td>\n",
       "    </tr>\n",
       "    <tr>\n",
       "      <th>16596</th>\n",
       "      <td>16599</td>\n",
       "      <td>Know How 2</td>\n",
       "      <td>DS</td>\n",
       "      <td>2010.0</td>\n",
       "      <td>Puzzle</td>\n",
       "      <td>7G//AMES</td>\n",
       "      <td>0.00</td>\n",
       "      <td>0.01</td>\n",
       "      <td>0.00</td>\n",
       "      <td>0.00</td>\n",
       "      <td>0.01</td>\n",
       "    </tr>\n",
       "    <tr>\n",
       "      <th>16597</th>\n",
       "      <td>16600</td>\n",
       "      <td>Spirits &amp; Spells</td>\n",
       "      <td>GBA</td>\n",
       "      <td>2003.0</td>\n",
       "      <td>Platform</td>\n",
       "      <td>Wanadoo</td>\n",
       "      <td>0.01</td>\n",
       "      <td>0.00</td>\n",
       "      <td>0.00</td>\n",
       "      <td>0.00</td>\n",
       "      <td>0.01</td>\n",
       "    </tr>\n",
       "  </tbody>\n",
       "</table>\n",
       "<p>16598 rows × 11 columns</p>\n",
       "</div>"
      ],
      "text/plain": [
       "        Rank                                              Name Platform  \\\n",
       "0          1                                        Wii Sports      Wii   \n",
       "1          2                                 Super Mario Bros.      NES   \n",
       "2          3                                    Mario Kart Wii      Wii   \n",
       "3          4                                 Wii Sports Resort      Wii   \n",
       "4          5                          Pokemon Red/Pokemon Blue       GB   \n",
       "...      ...                                               ...      ...   \n",
       "16593  16596                Woody Woodpecker in Crazy Castle 5      GBA   \n",
       "16594  16597                     Men in Black II: Alien Escape       GC   \n",
       "16595  16598  SCORE International Baja 1000: The Official Game      PS2   \n",
       "16596  16599                                        Know How 2       DS   \n",
       "16597  16600                                  Spirits & Spells      GBA   \n",
       "\n",
       "         Year         Genre   Publisher  NA_Sales  EU_Sales  JP_Sales  \\\n",
       "0      2006.0        Sports    Nintendo     41.49     29.02      3.77   \n",
       "1      1985.0      Platform    Nintendo     29.08      3.58      6.81   \n",
       "2      2008.0        Racing    Nintendo     15.85     12.88      3.79   \n",
       "3      2009.0        Sports    Nintendo     15.75     11.01      3.28   \n",
       "4      1996.0  Role-Playing    Nintendo     11.27      8.89     10.22   \n",
       "...       ...           ...         ...       ...       ...       ...   \n",
       "16593  2002.0      Platform       Kemco      0.01      0.00      0.00   \n",
       "16594  2003.0       Shooter  Infogrames      0.01      0.00      0.00   \n",
       "16595  2008.0        Racing  Activision      0.00      0.00      0.00   \n",
       "16596  2010.0        Puzzle    7G//AMES      0.00      0.01      0.00   \n",
       "16597  2003.0      Platform     Wanadoo      0.01      0.00      0.00   \n",
       "\n",
       "       Other_Sales  Global_Sales  \n",
       "0             8.46         82.74  \n",
       "1             0.77         40.24  \n",
       "2             3.31         35.82  \n",
       "3             2.96         33.00  \n",
       "4             1.00         31.37  \n",
       "...            ...           ...  \n",
       "16593         0.00          0.01  \n",
       "16594         0.00          0.01  \n",
       "16595         0.00          0.01  \n",
       "16596         0.00          0.01  \n",
       "16597         0.00          0.01  \n",
       "\n",
       "[16598 rows x 11 columns]"
      ]
     },
     "execution_count": 3,
     "metadata": {},
     "output_type": "execute_result"
    }
   ],
   "source": [
    "df"
   ]
  },
  {
   "cell_type": "markdown",
   "id": "484e3868-2acb-4dbe-8255-a2cb0190b358",
   "metadata": {},
   "source": [
    "### 1- Which company is the most common video game publisher?"
   ]
  },
  {
   "cell_type": "code",
   "execution_count": 4,
   "id": "f5a714af-b3ef-4fdf-b685-f8ca4d452614",
   "metadata": {},
   "outputs": [],
   "source": [
    "publisher_df = df['Publisher']"
   ]
  },
  {
   "cell_type": "code",
   "execution_count": 5,
   "id": "f7bae696-180a-40b0-8393-46fd825fe107",
   "metadata": {},
   "outputs": [
    {
     "data": {
      "text/plain": [
       "'Electronic Arts'"
      ]
     },
     "execution_count": 5,
     "metadata": {},
     "output_type": "execute_result"
    }
   ],
   "source": [
    "publisher_df.describe().top"
   ]
  },
  {
   "cell_type": "markdown",
   "id": "d4fbbda7-d07a-45b1-8dcb-48247ad54bfc",
   "metadata": {},
   "source": [
    "### 2- What’s the most common platform?"
   ]
  },
  {
   "cell_type": "code",
   "execution_count": 6,
   "id": "ceba928a-a266-4d76-9297-598591716f2c",
   "metadata": {},
   "outputs": [],
   "source": [
    "platform_df = df['Platform']"
   ]
  },
  {
   "cell_type": "code",
   "execution_count": 7,
   "id": "7384fe74-995f-4761-9e9d-083f7a6421da",
   "metadata": {},
   "outputs": [
    {
     "data": {
      "text/plain": [
       "'DS'"
      ]
     },
     "execution_count": 7,
     "metadata": {},
     "output_type": "execute_result"
    }
   ],
   "source": [
    "platform_df.describe().top"
   ]
  },
  {
   "cell_type": "markdown",
   "id": "36c410f7-5e6a-47f0-a73c-5b8729ccafb4",
   "metadata": {},
   "source": [
    "### 3- What about the most common genre?"
   ]
  },
  {
   "cell_type": "code",
   "execution_count": 8,
   "id": "5e8b2a98-86b4-4226-868f-44df96dc61ba",
   "metadata": {},
   "outputs": [],
   "source": [
    "genre_df = df ['Genre']"
   ]
  },
  {
   "cell_type": "code",
   "execution_count": 9,
   "id": "6bfe33a4-2885-4228-b6db-cd0548f08248",
   "metadata": {},
   "outputs": [
    {
     "data": {
      "text/plain": [
       "'Action'"
      ]
     },
     "execution_count": 9,
     "metadata": {},
     "output_type": "execute_result"
    }
   ],
   "source": [
    "genre_df.describe().top"
   ]
  },
  {
   "cell_type": "markdown",
   "id": "16ada9d5-9371-4025-a547-dd4c11d51255",
   "metadata": {},
   "source": [
    "### 4-What are the top 20 highest grossing games?"
   ]
  },
  {
   "cell_type": "code",
   "execution_count": 10,
   "id": "92798e8e-a325-4445-945c-2ec77785a10e",
   "metadata": {},
   "outputs": [],
   "source": [
    "glopal_df= df.head(20).groupby(['Rank','Name','Global_Sales'])"
   ]
  },
  {
   "cell_type": "code",
   "execution_count": 11,
   "id": "b5782c5e-d4cb-4103-bff7-b4dd88932855",
   "metadata": {},
   "outputs": [
    {
     "data": {
      "text/html": [
       "<div>\n",
       "<style scoped>\n",
       "    .dataframe tbody tr th:only-of-type {\n",
       "        vertical-align: middle;\n",
       "    }\n",
       "\n",
       "    .dataframe tbody tr th {\n",
       "        vertical-align: top;\n",
       "    }\n",
       "\n",
       "    .dataframe thead th {\n",
       "        text-align: right;\n",
       "    }\n",
       "</style>\n",
       "<table border=\"1\" class=\"dataframe\">\n",
       "  <thead>\n",
       "    <tr style=\"text-align: right;\">\n",
       "      <th></th>\n",
       "      <th></th>\n",
       "      <th></th>\n",
       "      <th>Rank</th>\n",
       "    </tr>\n",
       "    <tr>\n",
       "      <th>Rank</th>\n",
       "      <th>Name</th>\n",
       "      <th>Global_Sales</th>\n",
       "      <th></th>\n",
       "    </tr>\n",
       "  </thead>\n",
       "  <tbody>\n",
       "    <tr>\n",
       "      <th>1</th>\n",
       "      <th>Wii Sports</th>\n",
       "      <th>82.74</th>\n",
       "      <td>1</td>\n",
       "    </tr>\n",
       "    <tr>\n",
       "      <th>2</th>\n",
       "      <th>Super Mario Bros.</th>\n",
       "      <th>40.24</th>\n",
       "      <td>2</td>\n",
       "    </tr>\n",
       "    <tr>\n",
       "      <th>3</th>\n",
       "      <th>Mario Kart Wii</th>\n",
       "      <th>35.82</th>\n",
       "      <td>3</td>\n",
       "    </tr>\n",
       "    <tr>\n",
       "      <th>4</th>\n",
       "      <th>Wii Sports Resort</th>\n",
       "      <th>33.00</th>\n",
       "      <td>4</td>\n",
       "    </tr>\n",
       "    <tr>\n",
       "      <th>5</th>\n",
       "      <th>Pokemon Red/Pokemon Blue</th>\n",
       "      <th>31.37</th>\n",
       "      <td>5</td>\n",
       "    </tr>\n",
       "    <tr>\n",
       "      <th>6</th>\n",
       "      <th>Tetris</th>\n",
       "      <th>30.26</th>\n",
       "      <td>6</td>\n",
       "    </tr>\n",
       "    <tr>\n",
       "      <th>7</th>\n",
       "      <th>New Super Mario Bros.</th>\n",
       "      <th>30.01</th>\n",
       "      <td>7</td>\n",
       "    </tr>\n",
       "    <tr>\n",
       "      <th>8</th>\n",
       "      <th>Wii Play</th>\n",
       "      <th>29.02</th>\n",
       "      <td>8</td>\n",
       "    </tr>\n",
       "    <tr>\n",
       "      <th>9</th>\n",
       "      <th>New Super Mario Bros. Wii</th>\n",
       "      <th>28.62</th>\n",
       "      <td>9</td>\n",
       "    </tr>\n",
       "    <tr>\n",
       "      <th>10</th>\n",
       "      <th>Duck Hunt</th>\n",
       "      <th>28.31</th>\n",
       "      <td>10</td>\n",
       "    </tr>\n",
       "    <tr>\n",
       "      <th>11</th>\n",
       "      <th>Nintendogs</th>\n",
       "      <th>24.76</th>\n",
       "      <td>11</td>\n",
       "    </tr>\n",
       "    <tr>\n",
       "      <th>12</th>\n",
       "      <th>Mario Kart DS</th>\n",
       "      <th>23.42</th>\n",
       "      <td>12</td>\n",
       "    </tr>\n",
       "    <tr>\n",
       "      <th>13</th>\n",
       "      <th>Pokemon Gold/Pokemon Silver</th>\n",
       "      <th>23.10</th>\n",
       "      <td>13</td>\n",
       "    </tr>\n",
       "    <tr>\n",
       "      <th>14</th>\n",
       "      <th>Wii Fit</th>\n",
       "      <th>22.72</th>\n",
       "      <td>14</td>\n",
       "    </tr>\n",
       "    <tr>\n",
       "      <th>15</th>\n",
       "      <th>Wii Fit Plus</th>\n",
       "      <th>22.00</th>\n",
       "      <td>15</td>\n",
       "    </tr>\n",
       "    <tr>\n",
       "      <th>16</th>\n",
       "      <th>Kinect Adventures!</th>\n",
       "      <th>21.82</th>\n",
       "      <td>16</td>\n",
       "    </tr>\n",
       "    <tr>\n",
       "      <th>17</th>\n",
       "      <th>Grand Theft Auto V</th>\n",
       "      <th>21.40</th>\n",
       "      <td>17</td>\n",
       "    </tr>\n",
       "    <tr>\n",
       "      <th>18</th>\n",
       "      <th>Grand Theft Auto: San Andreas</th>\n",
       "      <th>20.81</th>\n",
       "      <td>18</td>\n",
       "    </tr>\n",
       "    <tr>\n",
       "      <th>19</th>\n",
       "      <th>Super Mario World</th>\n",
       "      <th>20.61</th>\n",
       "      <td>19</td>\n",
       "    </tr>\n",
       "    <tr>\n",
       "      <th>20</th>\n",
       "      <th>Brain Age: Train Your Brain in Minutes a Day</th>\n",
       "      <th>20.22</th>\n",
       "      <td>20</td>\n",
       "    </tr>\n",
       "  </tbody>\n",
       "</table>\n",
       "</div>"
      ],
      "text/plain": [
       "                                                                Rank\n",
       "Rank Name                                         Global_Sales      \n",
       "1    Wii Sports                                   82.74            1\n",
       "2    Super Mario Bros.                            40.24            2\n",
       "3    Mario Kart Wii                               35.82            3\n",
       "4    Wii Sports Resort                            33.00            4\n",
       "5    Pokemon Red/Pokemon Blue                     31.37            5\n",
       "6    Tetris                                       30.26            6\n",
       "7    New Super Mario Bros.                        30.01            7\n",
       "8    Wii Play                                     29.02            8\n",
       "9    New Super Mario Bros. Wii                    28.62            9\n",
       "10   Duck Hunt                                    28.31           10\n",
       "11   Nintendogs                                   24.76           11\n",
       "12   Mario Kart DS                                23.42           12\n",
       "13   Pokemon Gold/Pokemon Silver                  23.10           13\n",
       "14   Wii Fit                                      22.72           14\n",
       "15   Wii Fit Plus                                 22.00           15\n",
       "16   Kinect Adventures!                           21.82           16\n",
       "17   Grand Theft Auto V                           21.40           17\n",
       "18   Grand Theft Auto: San Andreas                20.81           18\n",
       "19   Super Mario World                            20.61           19\n",
       "20   Brain Age: Train Your Brain in Minutes a Day 20.22           20"
      ]
     },
     "execution_count": 11,
     "metadata": {},
     "output_type": "execute_result"
    }
   ],
   "source": [
    "glopal_df.agg({'Rank':'max'})"
   ]
  },
  {
   "cell_type": "markdown",
   "id": "afffc378-a0cd-4e4d-b270-cfecc64246e9",
   "metadata": {},
   "source": [
    "### 5-For North American video game sales, what’s the median?"
   ]
  },
  {
   "cell_type": "code",
   "execution_count": 12,
   "id": "f1c8381b-c792-495b-9b9d-9f6f42f7a3cc",
   "metadata": {},
   "outputs": [
    {
     "data": {
      "text/plain": [
       "0.08"
      ]
     },
     "execution_count": 12,
     "metadata": {},
     "output_type": "execute_result"
    }
   ],
   "source": [
    "df['NA_Sales'].median()"
   ]
  },
  {
   "cell_type": "code",
   "execution_count": 13,
   "id": "d57828a0-3dc7-4d41-b277-ec388df060c2",
   "metadata": {},
   "outputs": [
    {
     "data": {
      "text/html": [
       "<div>\n",
       "<style scoped>\n",
       "    .dataframe tbody tr th:only-of-type {\n",
       "        vertical-align: middle;\n",
       "    }\n",
       "\n",
       "    .dataframe tbody tr th {\n",
       "        vertical-align: top;\n",
       "    }\n",
       "\n",
       "    .dataframe thead th {\n",
       "        text-align: right;\n",
       "    }\n",
       "</style>\n",
       "<table border=\"1\" class=\"dataframe\">\n",
       "  <thead>\n",
       "    <tr style=\"text-align: right;\">\n",
       "      <th></th>\n",
       "      <th>Rank</th>\n",
       "      <th>Name</th>\n",
       "      <th>Platform</th>\n",
       "      <th>Year</th>\n",
       "      <th>Genre</th>\n",
       "      <th>Publisher</th>\n",
       "      <th>NA_Sales</th>\n",
       "      <th>EU_Sales</th>\n",
       "      <th>JP_Sales</th>\n",
       "      <th>Other_Sales</th>\n",
       "      <th>Global_Sales</th>\n",
       "    </tr>\n",
       "  </thead>\n",
       "  <tbody>\n",
       "    <tr>\n",
       "      <th>82</th>\n",
       "      <td>83</td>\n",
       "      <td>FIFA Soccer 13</td>\n",
       "      <td>PS3</td>\n",
       "      <td>2012.0</td>\n",
       "      <td>Action</td>\n",
       "      <td>Electronic Arts</td>\n",
       "      <td>1.06</td>\n",
       "      <td>5.05</td>\n",
       "      <td>0.13</td>\n",
       "      <td>2.01</td>\n",
       "      <td>8.24</td>\n",
       "    </tr>\n",
       "    <tr>\n",
       "      <th>83</th>\n",
       "      <td>84</td>\n",
       "      <td>The Sims 3</td>\n",
       "      <td>PC</td>\n",
       "      <td>2009.0</td>\n",
       "      <td>Simulation</td>\n",
       "      <td>Electronic Arts</td>\n",
       "      <td>0.98</td>\n",
       "      <td>6.42</td>\n",
       "      <td>0.00</td>\n",
       "      <td>0.71</td>\n",
       "      <td>8.11</td>\n",
       "    </tr>\n",
       "    <tr>\n",
       "      <th>112</th>\n",
       "      <td>113</td>\n",
       "      <td>FIFA 14</td>\n",
       "      <td>PS3</td>\n",
       "      <td>2013.0</td>\n",
       "      <td>Sports</td>\n",
       "      <td>Electronic Arts</td>\n",
       "      <td>0.78</td>\n",
       "      <td>4.32</td>\n",
       "      <td>0.07</td>\n",
       "      <td>1.73</td>\n",
       "      <td>6.90</td>\n",
       "    </tr>\n",
       "    <tr>\n",
       "      <th>121</th>\n",
       "      <td>122</td>\n",
       "      <td>FIFA 12</td>\n",
       "      <td>PS3</td>\n",
       "      <td>2011.0</td>\n",
       "      <td>Sports</td>\n",
       "      <td>Electronic Arts</td>\n",
       "      <td>0.84</td>\n",
       "      <td>4.32</td>\n",
       "      <td>0.11</td>\n",
       "      <td>1.42</td>\n",
       "      <td>6.69</td>\n",
       "    </tr>\n",
       "    <tr>\n",
       "      <th>124</th>\n",
       "      <td>125</td>\n",
       "      <td>FIFA 15</td>\n",
       "      <td>PS4</td>\n",
       "      <td>2014.0</td>\n",
       "      <td>Sports</td>\n",
       "      <td>Electronic Arts</td>\n",
       "      <td>0.79</td>\n",
       "      <td>4.29</td>\n",
       "      <td>0.05</td>\n",
       "      <td>1.47</td>\n",
       "      <td>6.59</td>\n",
       "    </tr>\n",
       "    <tr>\n",
       "      <th>137</th>\n",
       "      <td>138</td>\n",
       "      <td>World of Warcraft</td>\n",
       "      <td>PC</td>\n",
       "      <td>2004.0</td>\n",
       "      <td>Role-Playing</td>\n",
       "      <td>Activision</td>\n",
       "      <td>0.07</td>\n",
       "      <td>6.21</td>\n",
       "      <td>0.00</td>\n",
       "      <td>0.00</td>\n",
       "      <td>6.28</td>\n",
       "    </tr>\n",
       "    <tr>\n",
       "      <th>149</th>\n",
       "      <td>150</td>\n",
       "      <td>Dragon Quest IX: Sentinels of the Starry Skies</td>\n",
       "      <td>DS</td>\n",
       "      <td>2009.0</td>\n",
       "      <td>Role-Playing</td>\n",
       "      <td>Nintendo</td>\n",
       "      <td>0.66</td>\n",
       "      <td>0.69</td>\n",
       "      <td>4.35</td>\n",
       "      <td>0.15</td>\n",
       "      <td>5.84</td>\n",
       "    </tr>\n",
       "    <tr>\n",
       "      <th>161</th>\n",
       "      <td>162</td>\n",
       "      <td>Monster Hunter Freedom Unite</td>\n",
       "      <td>PSP</td>\n",
       "      <td>2008.0</td>\n",
       "      <td>Role-Playing</td>\n",
       "      <td>Capcom</td>\n",
       "      <td>0.47</td>\n",
       "      <td>0.57</td>\n",
       "      <td>4.13</td>\n",
       "      <td>0.34</td>\n",
       "      <td>5.50</td>\n",
       "    </tr>\n",
       "    <tr>\n",
       "      <th>180</th>\n",
       "      <td>181</td>\n",
       "      <td>Dragon Quest VIII: Journey of the Cursed King</td>\n",
       "      <td>PS2</td>\n",
       "      <td>2004.0</td>\n",
       "      <td>Role-Playing</td>\n",
       "      <td>Square Enix</td>\n",
       "      <td>0.65</td>\n",
       "      <td>0.75</td>\n",
       "      <td>3.61</td>\n",
       "      <td>0.20</td>\n",
       "      <td>5.21</td>\n",
       "    </tr>\n",
       "    <tr>\n",
       "      <th>185</th>\n",
       "      <td>186</td>\n",
       "      <td>FIFA Soccer 13</td>\n",
       "      <td>X360</td>\n",
       "      <td>2012.0</td>\n",
       "      <td>Action</td>\n",
       "      <td>Electronic Arts</td>\n",
       "      <td>1.08</td>\n",
       "      <td>3.48</td>\n",
       "      <td>0.03</td>\n",
       "      <td>0.58</td>\n",
       "      <td>5.18</td>\n",
       "    </tr>\n",
       "  </tbody>\n",
       "</table>\n",
       "</div>"
      ],
      "text/plain": [
       "     Rank                                            Name Platform    Year  \\\n",
       "82     83                                  FIFA Soccer 13      PS3  2012.0   \n",
       "83     84                                      The Sims 3       PC  2009.0   \n",
       "112   113                                         FIFA 14      PS3  2013.0   \n",
       "121   122                                         FIFA 12      PS3  2011.0   \n",
       "124   125                                         FIFA 15      PS4  2014.0   \n",
       "137   138                               World of Warcraft       PC  2004.0   \n",
       "149   150  Dragon Quest IX: Sentinels of the Starry Skies       DS  2009.0   \n",
       "161   162                    Monster Hunter Freedom Unite      PSP  2008.0   \n",
       "180   181   Dragon Quest VIII: Journey of the Cursed King      PS2  2004.0   \n",
       "185   186                                  FIFA Soccer 13     X360  2012.0   \n",
       "\n",
       "            Genre        Publisher  NA_Sales  EU_Sales  JP_Sales  Other_Sales  \\\n",
       "82         Action  Electronic Arts      1.06      5.05      0.13         2.01   \n",
       "83     Simulation  Electronic Arts      0.98      6.42      0.00         0.71   \n",
       "112        Sports  Electronic Arts      0.78      4.32      0.07         1.73   \n",
       "121        Sports  Electronic Arts      0.84      4.32      0.11         1.42   \n",
       "124        Sports  Electronic Arts      0.79      4.29      0.05         1.47   \n",
       "137  Role-Playing       Activision      0.07      6.21      0.00         0.00   \n",
       "149  Role-Playing         Nintendo      0.66      0.69      4.35         0.15   \n",
       "161  Role-Playing           Capcom      0.47      0.57      4.13         0.34   \n",
       "180  Role-Playing      Square Enix      0.65      0.75      3.61         0.20   \n",
       "185        Action  Electronic Arts      1.08      3.48      0.03         0.58   \n",
       "\n",
       "     Global_Sales  \n",
       "82           8.24  \n",
       "83           8.11  \n",
       "112          6.90  \n",
       "121          6.69  \n",
       "124          6.59  \n",
       "137          6.28  \n",
       "149          5.84  \n",
       "161          5.50  \n",
       "180          5.21  \n",
       "185          5.18  "
      ]
     },
     "execution_count": 13,
     "metadata": {},
     "output_type": "execute_result"
    }
   ],
   "source": [
    "na_median_sales = df['NA_Sales']\n",
    "\n",
    "median =na_median_sales.median()\n",
    "\n",
    "df[(na_median_sales <= median+1) & (na_median_sales >= median-1)].head(10)"
   ]
  },
  {
   "cell_type": "markdown",
   "id": "a76b2ad6-056a-4524-a264-3c3707c027f9",
   "metadata": {},
   "source": [
    "### 6- For the top-selling game of all time, how many standard deviations above/below the mean are its sales for North America?"
   ]
  },
  {
   "cell_type": "code",
   "execution_count": 14,
   "id": "7ef9c361-f28d-48df-9162-e81075ec43b2",
   "metadata": {},
   "outputs": [
    {
     "data": {
      "text/plain": [
       "50.47898767479108"
      ]
     },
     "execution_count": 14,
     "metadata": {},
     "output_type": "execute_result"
    }
   ],
   "source": [
    "df_NA=df['NA_Sales']\n",
    "mean_NA = df_NA.mean()\n",
    "std_NA = df_NA.std()\n",
    "max_NA = df_NA.max()\n",
    "z = (max_NA - mean_NA)/std_NA\n",
    "z"
   ]
  },
  {
   "cell_type": "markdown",
   "id": "c7b8d951-cde0-4332-b5de-5d15ceb8ad8e",
   "metadata": {},
   "source": [
    "### 7-The Nintendo Wii seems to have outdone itself with games. How does its average number of sales compare with all of the other platforms?"
   ]
  },
  {
   "cell_type": "code",
   "execution_count": 15,
   "id": "3d8afeaf-c822-4fd6-9315-e15d282b94c0",
   "metadata": {},
   "outputs": [
    {
     "data": {
      "text/plain": [
       "(0.5233896418516336, 0.6994037735849057)"
      ]
     },
     "execution_count": 15,
     "metadata": {},
     "output_type": "execute_result"
    }
   ],
   "source": [
    "wii =df[df['Platform']=='Wii']\n",
    "other=df[df['Platform'] != 'Wii']\n",
    "(other.mean().Global_Sales,wii.mean().Global_Sales)"
   ]
  },
  {
   "cell_type": "markdown",
   "id": "999ccea9-ad25-42b0-9de5-6a5cd15e42c2",
   "metadata": {},
   "source": [
    "## 8- Come up with 3 more questions that can be answered with this data set."
   ]
  },
  {
   "cell_type": "markdown",
   "id": "d29b2694-f999-4bea-986c-0b6fedecc480",
   "metadata": {},
   "source": [
    "- ### The top 10 Puzzle game in rank ?"
   ]
  },
  {
   "cell_type": "code",
   "execution_count": 26,
   "id": "5cffebcb-92da-44a4-83e2-9762fe0bd8ba",
   "metadata": {},
   "outputs": [
    {
     "data": {
      "text/plain": [
       "5                                           Tetris\n",
       "27     Brain Age 2: More Training in Minutes a Day\n",
       "89                                         Pac-Man\n",
       "155                                         Tetris\n",
       "170                                      Dr. Mario\n",
       "177       Professor Layton and the Curious Village\n",
       "215                                      Dr. Mario\n",
       "300        Professor Layton and the Diabolical Box\n",
       "399        Professor Layton and the Unwound Future\n",
       "488                             Pac-Man Collection\n",
       "Name: Name, dtype: object"
      ]
     },
     "execution_count": 26,
     "metadata": {},
     "output_type": "execute_result"
    }
   ],
   "source": [
    "pzzle = df[df['Genre']=='Puzzle'].head(10).Name\n",
    "pzzle"
   ]
  },
  {
   "cell_type": "markdown",
   "id": "89225b41-358d-4bd1-9061-ee2b2d59ecf8",
   "metadata": {},
   "source": [
    "- ### what is the name for most sale game?"
   ]
  },
  {
   "cell_type": "code",
   "execution_count": 30,
   "id": "1ecf4efc-36e1-48dd-987f-265791018918",
   "metadata": {},
   "outputs": [
    {
     "data": {
      "text/plain": [
       "'¡Shin Chan Flipa en colores!'"
      ]
     },
     "execution_count": 30,
     "metadata": {},
     "output_type": "execute_result"
    }
   ],
   "source": [
    "name=df[['Name']].max()\n",
    "name.Name"
   ]
  },
  {
   "cell_type": "markdown",
   "id": "223f9d18-d7c4-4dd1-8cb8-55b30cc24474",
   "metadata": {},
   "source": [
    "- ### How many games sold in NES platform in NA ?"
   ]
  },
  {
   "cell_type": "code",
   "execution_count": 36,
   "id": "ff49953c-be08-499a-8d90-01427705ccd8",
   "metadata": {},
   "outputs": [
    {
     "data": {
      "text/plain": [
       "98"
      ]
     },
     "execution_count": 36,
     "metadata": {},
     "output_type": "execute_result"
    }
   ],
   "source": [
    "NES =df[df['Platform']=='NES'].count()\n",
    "NES.NA_Sales"
   ]
  }
 ],
 "metadata": {
  "kernelspec": {
   "display_name": "Python 3",
   "language": "python",
   "name": "python3"
  },
  "language_info": {
   "codemirror_mode": {
    "name": "ipython",
    "version": 3
   },
   "file_extension": ".py",
   "mimetype": "text/x-python",
   "name": "python",
   "nbconvert_exporter": "python",
   "pygments_lexer": "ipython3",
   "version": "3.9.4"
  }
 },
 "nbformat": 4,
 "nbformat_minor": 5
}
